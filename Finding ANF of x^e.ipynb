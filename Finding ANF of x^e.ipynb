{
 "cells": [
  {
   "cell_type": "code",
   "execution_count": 10,
   "id": "006f3cac",
   "metadata": {},
   "outputs": [
    {
     "name": "stdout",
     "output_type": "stream",
     "text": [
      "Truth Table for f(x)= x^2 over GF(2^5):\n"
     ]
    },
    {
     "ename": "TypeError",
     "evalue": "Polynomial_GF2X.polynomial() takes exactly one argument (0 given)",
     "output_type": "error",
     "traceback": [
      "\u001b[0;31m---------------------------------------------------------------------------\u001b[0m",
      "\u001b[0;31mTypeError\u001b[0m                                 Traceback (most recent call last)",
      "Cell \u001b[0;32mIn [10], line 51\u001b[0m\n\u001b[1;32m     48\u001b[0m R \u001b[38;5;241m=\u001b[39m GF(Integer(\u001b[38;5;241m2\u001b[39m))[\u001b[38;5;124m'\u001b[39m\u001b[38;5;124mx\u001b[39m\u001b[38;5;124m'\u001b[39m]; (x,) \u001b[38;5;241m=\u001b[39m R\u001b[38;5;241m.\u001b[39m_first_ngens(\u001b[38;5;241m1\u001b[39m)\n\u001b[1;32m     49\u001b[0m \u001b[38;5;66;03m# Example usage:\u001b[39;00m\n\u001b[1;32m     50\u001b[0m \u001b[38;5;66;03m# Here, we define f(x)= x^3 over GF(2^5)\u001b[39;00m\n\u001b[0;32m---> 51\u001b[0m \u001b[43mpolynomial_truth_table_and_anf\u001b[49m\u001b[43m(\u001b[49m\u001b[43mx\u001b[49m\u001b[38;5;241;43m*\u001b[39;49m\u001b[38;5;241;43m*\u001b[39;49m\u001b[43mInteger\u001b[49m\u001b[43m(\u001b[49m\u001b[38;5;241;43m5\u001b[39;49m\u001b[43m)\u001b[49m\u001b[43m,\u001b[49m\u001b[43m \u001b[49m\u001b[43mn\u001b[49m\u001b[38;5;241;43m=\u001b[39;49m\u001b[43mInteger\u001b[49m\u001b[43m(\u001b[49m\u001b[38;5;241;43m5\u001b[39;49m\u001b[43m)\u001b[49m\u001b[43m)\u001b[49m\n",
      "Cell \u001b[0;32mIn [10], line 35\u001b[0m, in \u001b[0;36mpolynomial_truth_table_and_anf\u001b[0;34m(f, n)\u001b[0m\n\u001b[1;32m     33\u001b[0m \u001b[38;5;28mprint\u001b[39m(\u001b[38;5;124m\"\u001b[39m\u001b[38;5;124mTruth Table for f(x)= x^\u001b[39m\u001b[38;5;132;01m%d\u001b[39;00m\u001b[38;5;124m over GF(2^\u001b[39m\u001b[38;5;132;01m%d\u001b[39;00m\u001b[38;5;124m):\u001b[39m\u001b[38;5;124m\"\u001b[39m \u001b[38;5;241m%\u001b[39m (e, n))\n\u001b[1;32m     34\u001b[0m \u001b[38;5;28;01mfor\u001b[39;00m inp, out \u001b[38;5;129;01min\u001b[39;00m truth_table_dict\u001b[38;5;241m.\u001b[39mitems():\n\u001b[0;32m---> 35\u001b[0m      \u001b[38;5;28mprint\u001b[39m(inp, \u001b[38;5;124m\"\u001b[39m\u001b[38;5;124m->\u001b[39m\u001b[38;5;124m\"\u001b[39m, out, \u001b[38;5;124m\"\u001b[39m\u001b[38;5;124m (int:\u001b[39m\u001b[38;5;124m\"\u001b[39m, \u001b[43mfield_poly_to_int\u001b[49m\u001b[43m(\u001b[49m\u001b[43mout\u001b[49m\u001b[43m,\u001b[49m\u001b[43m \u001b[49m\u001b[43mn\u001b[49m\u001b[43m)\u001b[49m, \u001b[38;5;124m\"\u001b[39m\u001b[38;5;124m)\u001b[39m\u001b[38;5;124m\"\u001b[39m)\n\u001b[1;32m     37\u001b[0m \u001b[38;5;66;03m# For each output bit (coordinate), extract its truth table and compute its ANF.\u001b[39;00m\n\u001b[1;32m     38\u001b[0m \u001b[38;5;28mprint\u001b[39m(\u001b[38;5;124m\"\u001b[39m\u001b[38;5;130;01m\\n\u001b[39;00m\u001b[38;5;124mANF for each output coordinate bit:\u001b[39m\u001b[38;5;124m\"\u001b[39m)\n",
      "Cell \u001b[0;32mIn [10], line 8\u001b[0m, in \u001b[0;36mfield_poly_to_int\u001b[0;34m(element, n)\u001b[0m\n\u001b[1;32m      3\u001b[0m \u001b[38;5;28;01mdef\u001b[39;00m \u001b[38;5;21mfield_poly_to_int\u001b[39m(element, n\u001b[38;5;241m=\u001b[39mInteger(\u001b[38;5;241m5\u001b[39m)):\n\u001b[1;32m      4\u001b[0m \u001b[38;5;250m    \u001b[39m\u001b[38;5;124;03m\"\"\"\u001b[39;00m\n\u001b[1;32m      5\u001b[0m \u001b[38;5;124;03m    Convert an element of GF(2^n) into an integer by interpreting its \u001b[39;00m\n\u001b[1;32m      6\u001b[0m \u001b[38;5;124;03m    polynomial representation (with respect to the generator) as a binary number.\u001b[39;00m\n\u001b[1;32m      7\u001b[0m \u001b[38;5;124;03m    \"\"\"\u001b[39;00m\n\u001b[0;32m----> 8\u001b[0m     poly \u001b[38;5;241m=\u001b[39m \u001b[43melement\u001b[49m\u001b[38;5;241;43m.\u001b[39;49m\u001b[43mpolynomial\u001b[49m\u001b[43m(\u001b[49m\u001b[43m)\u001b[49m\n\u001b[1;32m      9\u001b[0m     coeffs \u001b[38;5;241m=\u001b[39m poly\u001b[38;5;241m.\u001b[39mlist()  \u001b[38;5;66;03m# coefficients in ascending order\u001b[39;00m\n\u001b[1;32m     10\u001b[0m     \u001b[38;5;28;01mreturn\u001b[39;00m \u001b[38;5;28msum\u001b[39m(\u001b[38;5;28mint\u001b[39m(c) \u001b[38;5;241m*\u001b[39m (Integer(\u001b[38;5;241m2\u001b[39m)\u001b[38;5;241m*\u001b[39m\u001b[38;5;241m*\u001b[39mi) \u001b[38;5;28;01mfor\u001b[39;00m i, c \u001b[38;5;129;01min\u001b[39;00m \u001b[38;5;28menumerate\u001b[39m(coeffs))\n",
      "\u001b[0;31mTypeError\u001b[0m: Polynomial_GF2X.polynomial() takes exactly one argument (0 given)"
     ]
    }
   ],
   "source": [
    "from sage.crypto.boolean_function import BooleanFunction\n",
    "\n",
    "def field_poly_to_int(element, n=5):\n",
    "    \"\"\"\n",
    "    Convert an element of GF(2^n) into an integer by interpreting its \n",
    "    polynomial representation (with respect to the generator) as a binary number.\n",
    "    \"\"\"\n",
    "    poly = element.polynomial()\n",
    "    coeffs = poly.list()  # coefficients in ascending order\n",
    "    return sum(int(c) * (2**i) for i, c in enumerate(coeffs))\n",
    "\n",
    "def polynomial_truth_table_and_anf(e, n=5):\n",
    "    \"\"\"\n",
    "    Given an exponent e, defines the function f(x)=x^e over GF(2^n), \n",
    "    computes its truth table (with inputs sorted by their binary value), \n",
    "    and then for each output bit (coordinate), computes and prints the \n",
    "    Algebraic Normal Form (ANF) of the corresponding Boolean function.\n",
    "    \n",
    "    Parameters:\n",
    "       e : exponent defining the function f(x)=x^e.\n",
    "       n : the extension degree for GF(2^n); default is 5.\n",
    "    \"\"\"\n",
    "    # Create GF(2^n) with generator 'a'\n",
    "    F = GF(2**n, 'a')\n",
    "    a = F.gen()\n",
    "    \n",
    "    # Sorted list of field elements (by their integer representation)\n",
    "    sorted_F = sorted(list(F), key=lambda c: field_poly_to_int(c, n))\n",
    "    \n",
    "    # Build truth table: for each x in sorted_F, compute f(x)=x^e.\n",
    "    truth_table_dict = { x:  for x in sorted_F }\n",
    "    \n",
    "    print(\"Truth Table for f(x)= x^%d over GF(2^%d):\" % (e, n))\n",
    "    for inp, out in truth_table_dict.items():\n",
    "         print(inp, \"->\", out, \" (int:\", field_poly_to_int(out, n), \")\")\n",
    "         \n",
    "    # For each output bit (coordinate), extract its truth table and compute its ANF.\n",
    "    print(\"\\nANF for each output coordinate bit:\")\n",
    "    for bit in range(n):\n",
    "         # Build Boolean truth table: for each x in sorted_F, extract bit 'bit'\n",
    "         bit_tt = [ (field_poly_to_int(truth_table_dict[x], n) >> bit) & 1 for x in sorted_F ]\n",
    "         bf = BooleanFunction(bit_tt)\n",
    "         print(\"Output bit\", bit, \"ANF:\")\n",
    "         print(bf.algebraic_normal_form())\n",
    "         print()  # blank line for readability\n",
    "\n",
    "        \n",
    "R.<x> = GF(2)[]\n",
    "# Example usage:\n",
    "# Here, we define f(x)= x^3 over GF(2^5)\n",
    "polynomial_truth_table_and_anf(x**5, n=5)\n"
   ]
  },
  {
   "cell_type": "code",
   "execution_count": 8,
   "id": "7714e85c",
   "metadata": {},
   "outputs": [
    {
     "name": "stdout",
     "output_type": "stream",
     "text": [
      "Truth Table for f(x)= x^3 over GF(2^5):\n",
      "0 -> 0  (int: 0 )\n",
      "1 -> 1  (int: 1 )\n",
      "a -> a^3  (int: 8 )\n",
      "a + 1 -> a^3 + a^2 + a + 1  (int: 15 )\n",
      "a^2 -> a^3 + a  (int: 10 )\n",
      "a^2 + 1 -> a^4 + a^3 + a^2 + a + 1  (int: 31 )\n",
      "a^2 + a -> a^4 + a^2 + a + 1  (int: 23 )\n",
      "a^2 + a + 1 -> a^2  (int: 4 )\n",
      "a^3 -> a^4 + a^3 + a  (int: 26 )\n",
      "a^3 + 1 -> a^4 + a^3 + 1  (int: 25 )\n",
      "a^3 + a -> a + 1  (int: 3 )\n",
      "a^3 + a + 1 -> a^2 + a  (int: 6 )\n",
      "a^3 + a^2 -> a^3 + 1  (int: 9 )\n",
      "a^3 + a^2 + 1 -> a^4 + a^3 + a^2 + a  (int: 30 )\n",
      "a^3 + a^2 + a -> a^2 + 1  (int: 5 )\n",
      "a^3 + a^2 + a + 1 -> a^4 + a^2  (int: 20 )\n",
      "a^4 -> a^3 + a^2 + a  (int: 14 )\n",
      "a^4 + 1 -> a^4 + a  (int: 18 )\n",
      "a^4 + a -> a^4 + a^2 + a  (int: 22 )\n",
      "a^4 + a + 1 -> a^3 + a^2  (int: 12 )\n",
      "a^4 + a^2 -> a^4 + a^3  (int: 24 )\n",
      "a^4 + a^2 + 1 -> a^4  (int: 16 )\n",
      "a^4 + a^2 + a -> a^4 + a^2 + 1  (int: 21 )\n",
      "a^4 + a^2 + a + 1 -> a^4 + a^3 + a + 1  (int: 27 )\n",
      "a^4 + a^3 -> a  (int: 2 )\n",
      "a^4 + a^3 + 1 -> a^4 + a^3 + a^2  (int: 28 )\n",
      "a^4 + a^3 + a -> a^3 + a + 1  (int: 11 )\n",
      "a^4 + a^3 + a + 1 -> a^4 + a + 1  (int: 19 )\n",
      "a^4 + a^3 + a^2 -> a^3 + a^2 + 1  (int: 13 )\n",
      "a^4 + a^3 + a^2 + 1 -> a^2 + a + 1  (int: 7 )\n",
      "a^4 + a^3 + a^2 + a -> a^4 + 1  (int: 17 )\n",
      "a^4 + a^3 + a^2 + a + 1 -> a^4 + a^3 + a^2 + 1  (int: 29 )\n",
      "\n",
      "ANF for each output coordinate bit:\n",
      "Output bit 0 ANF:\n",
      "x0*x4 + x0 + x1*x2 + x1*x3 + x2*x3\n",
      "\n",
      "Output bit 1 ANF:\n",
      "x0*x1 + x0*x3 + x2 + x3*x4 + x3 + x4\n",
      "\n",
      "Output bit 2 ANF:\n",
      "x0*x1 + x0*x2 + x0*x4 + x1*x2 + x2*x4 + x3*x4 + x4\n",
      "\n",
      "Output bit 3 ANF:\n",
      "x0*x4 + x1 + x2*x3 + x2*x4 + x2 + x3 + x4\n",
      "\n",
      "Output bit 4 ANF:\n",
      "x0*x2 + x0*x4 + x1*x2 + x1*x3 + x1*x4 + x2*x3 + x2*x4 + x3*x4 + x3\n",
      "\n"
     ]
    }
   ],
   "source": [
    "polynomial_truth_table_and_anf(3, n=5)"
   ]
  },
  {
   "cell_type": "code",
   "execution_count": null,
   "id": "5002e427",
   "metadata": {},
   "outputs": [],
   "source": []
  }
 ],
 "metadata": {
  "kernelspec": {
   "display_name": "SageMath 9.5",
   "language": "sage",
   "name": "sagemath"
  },
  "language_info": {
   "codemirror_mode": {
    "name": "ipython",
    "version": 3
   },
   "file_extension": ".py",
   "mimetype": "text/x-python",
   "name": "python",
   "nbconvert_exporter": "python",
   "pygments_lexer": "ipython3",
   "version": "3.11.2"
  }
 },
 "nbformat": 4,
 "nbformat_minor": 5
}
